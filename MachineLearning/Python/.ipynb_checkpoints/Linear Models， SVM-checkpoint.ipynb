{
 "cells": [
  {
   "cell_type": "code",
   "execution_count": 1,
   "metadata": {},
   "outputs": [],
   "source": [
    "import tushare as ts\n",
    "import pandas as pd\n",
    "import numpy as np\n",
    "import sklearn\n",
    "from sklearn.linear_model import LogisticRegression, LinearRegression, Ridge, Lasso\n",
    "from sklearn import metrics, mixture as mix\n",
    "from sklearn.model_selection import cross_val_score, KFold\n",
    "import talib as ta\n",
    "from sklearn.preprocessing import StandardScaler\n",
    "from sklearn.svm import SVC\n",
    "from sklearn.model_selection import KFold"
   ]
  },
  {
   "cell_type": "code",
   "execution_count": 2,
   "metadata": {},
   "outputs": [
    {
     "name": "stdout",
     "output_type": "stream",
     "text": [
      "1.2.51\n",
      "1.0.1\n",
      "1.18.1\n",
      "0.22.1\n",
      "0.4.17\n"
     ]
    }
   ],
   "source": [
    "print(ts.__version__)\n",
    "print(pd.__version__)\n",
    "print(np.__version__)\n",
    "print(sklearn.__version__)\n",
    "print(ta.__version__)"
   ]
  },
  {
   "cell_type": "code",
   "execution_count": 3,
   "metadata": {},
   "outputs": [],
   "source": [
    "# # set tushare token here, don't change this if u don't know what is token\n",
    "# ts.set_token('c04cfeebe6242468a07794d150cfa318efdb3a44b099c039d72527de')\n",
    "# pro = ts.pro_api()"
   ]
  },
  {
   "cell_type": "code",
   "execution_count": 4,
   "metadata": {},
   "outputs": [],
   "source": [
    "# # downloading data for tushare\n",
    "# sd = '20000101'\n",
    "# index = '000016.SH'\n",
    "# sz50 = pro.index_daily(ts_code = index, start_date = sd).set_index('trade_date').sort_index()\n",
    "# sz50.to_csv('sz50.csv')"
   ]
  },
  {
   "cell_type": "code",
   "execution_count": 5,
   "metadata": {},
   "outputs": [],
   "source": [
    "sz50 = pd.read_csv('sz50.csv').set_index('trade_date')"
   ]
  },
  {
   "cell_type": "code",
   "execution_count": 6,
   "metadata": {},
   "outputs": [
    {
     "data": {
      "text/html": [
       "<div>\n",
       "<style scoped>\n",
       "    .dataframe tbody tr th:only-of-type {\n",
       "        vertical-align: middle;\n",
       "    }\n",
       "\n",
       "    .dataframe tbody tr th {\n",
       "        vertical-align: top;\n",
       "    }\n",
       "\n",
       "    .dataframe thead th {\n",
       "        text-align: right;\n",
       "    }\n",
       "</style>\n",
       "<table border=\"1\" class=\"dataframe\">\n",
       "  <thead>\n",
       "    <tr style=\"text-align: right;\">\n",
       "      <th></th>\n",
       "      <th>ts_code</th>\n",
       "      <th>close</th>\n",
       "      <th>open</th>\n",
       "      <th>high</th>\n",
       "      <th>low</th>\n",
       "      <th>pre_close</th>\n",
       "      <th>change</th>\n",
       "      <th>pct_chg</th>\n",
       "      <th>vol</th>\n",
       "      <th>amount</th>\n",
       "      <th>High</th>\n",
       "      <th>Low</th>\n",
       "      <th>Close</th>\n",
       "      <th>Open</th>\n",
       "    </tr>\n",
       "    <tr>\n",
       "      <th>trade_date</th>\n",
       "      <th></th>\n",
       "      <th></th>\n",
       "      <th></th>\n",
       "      <th></th>\n",
       "      <th></th>\n",
       "      <th></th>\n",
       "      <th></th>\n",
       "      <th></th>\n",
       "      <th></th>\n",
       "      <th></th>\n",
       "      <th></th>\n",
       "      <th></th>\n",
       "      <th></th>\n",
       "      <th></th>\n",
       "    </tr>\n",
       "  </thead>\n",
       "  <tbody>\n",
       "    <tr>\n",
       "      <th>20040102</th>\n",
       "      <td>000016.SH</td>\n",
       "      <td>1011.3470</td>\n",
       "      <td>996.9960</td>\n",
       "      <td>1021.5680</td>\n",
       "      <td>993.8920</td>\n",
       "      <td>1000.0000</td>\n",
       "      <td>11.3470</td>\n",
       "      <td>1.1347</td>\n",
       "      <td>8064653.0</td>\n",
       "      <td>5.742759e+06</td>\n",
       "      <td>NaN</td>\n",
       "      <td>NaN</td>\n",
       "      <td>NaN</td>\n",
       "      <td>NaN</td>\n",
       "    </tr>\n",
       "    <tr>\n",
       "      <th>20040105</th>\n",
       "      <td>000016.SH</td>\n",
       "      <td>1060.8010</td>\n",
       "      <td>1008.2790</td>\n",
       "      <td>1060.8980</td>\n",
       "      <td>1008.2790</td>\n",
       "      <td>1011.3470</td>\n",
       "      <td>49.4540</td>\n",
       "      <td>4.8899</td>\n",
       "      <td>14468180.0</td>\n",
       "      <td>1.070646e+07</td>\n",
       "      <td>1021.5680</td>\n",
       "      <td>993.8920</td>\n",
       "      <td>1011.3470</td>\n",
       "      <td>996.9960</td>\n",
       "    </tr>\n",
       "    <tr>\n",
       "      <th>20040106</th>\n",
       "      <td>000016.SH</td>\n",
       "      <td>1075.6560</td>\n",
       "      <td>1059.1410</td>\n",
       "      <td>1086.6940</td>\n",
       "      <td>1059.0950</td>\n",
       "      <td>1060.8010</td>\n",
       "      <td>14.8550</td>\n",
       "      <td>1.4004</td>\n",
       "      <td>16991334.0</td>\n",
       "      <td>1.241700e+07</td>\n",
       "      <td>1060.8980</td>\n",
       "      <td>1008.2790</td>\n",
       "      <td>1060.8010</td>\n",
       "      <td>1008.2790</td>\n",
       "    </tr>\n",
       "    <tr>\n",
       "      <th>20040107</th>\n",
       "      <td>000016.SH</td>\n",
       "      <td>1086.3030</td>\n",
       "      <td>1075.5620</td>\n",
       "      <td>1095.8410</td>\n",
       "      <td>1070.9800</td>\n",
       "      <td>1075.6560</td>\n",
       "      <td>10.6470</td>\n",
       "      <td>0.9898</td>\n",
       "      <td>13729419.0</td>\n",
       "      <td>1.035253e+07</td>\n",
       "      <td>1086.6940</td>\n",
       "      <td>1059.0950</td>\n",
       "      <td>1075.6560</td>\n",
       "      <td>1059.1410</td>\n",
       "    </tr>\n",
       "    <tr>\n",
       "      <th>20040108</th>\n",
       "      <td>000016.SH</td>\n",
       "      <td>1102.6620</td>\n",
       "      <td>1087.6800</td>\n",
       "      <td>1108.2910</td>\n",
       "      <td>1082.5090</td>\n",
       "      <td>1086.3030</td>\n",
       "      <td>16.3590</td>\n",
       "      <td>1.5059</td>\n",
       "      <td>10780427.0</td>\n",
       "      <td>8.188927e+06</td>\n",
       "      <td>1095.8410</td>\n",
       "      <td>1070.9800</td>\n",
       "      <td>1086.3030</td>\n",
       "      <td>1075.5620</td>\n",
       "    </tr>\n",
       "    <tr>\n",
       "      <th>...</th>\n",
       "      <td>...</td>\n",
       "      <td>...</td>\n",
       "      <td>...</td>\n",
       "      <td>...</td>\n",
       "      <td>...</td>\n",
       "      <td>...</td>\n",
       "      <td>...</td>\n",
       "      <td>...</td>\n",
       "      <td>...</td>\n",
       "      <td>...</td>\n",
       "      <td>...</td>\n",
       "      <td>...</td>\n",
       "      <td>...</td>\n",
       "      <td>...</td>\n",
       "    </tr>\n",
       "    <tr>\n",
       "      <th>20200312</th>\n",
       "      <td>000016.SH</td>\n",
       "      <td>2841.9824</td>\n",
       "      <td>2858.5110</td>\n",
       "      <td>2866.1354</td>\n",
       "      <td>2828.2901</td>\n",
       "      <td>2888.3612</td>\n",
       "      <td>-46.3788</td>\n",
       "      <td>-1.6057</td>\n",
       "      <td>37023632.0</td>\n",
       "      <td>6.074492e+07</td>\n",
       "      <td>2927.8282</td>\n",
       "      <td>2888.3612</td>\n",
       "      <td>2888.3612</td>\n",
       "      <td>2927.8282</td>\n",
       "    </tr>\n",
       "    <tr>\n",
       "      <th>20200313</th>\n",
       "      <td>000016.SH</td>\n",
       "      <td>2798.7695</td>\n",
       "      <td>2720.6127</td>\n",
       "      <td>2826.7235</td>\n",
       "      <td>2715.1375</td>\n",
       "      <td>2841.9824</td>\n",
       "      <td>-43.2129</td>\n",
       "      <td>-1.5205</td>\n",
       "      <td>49061355.0</td>\n",
       "      <td>8.281450e+07</td>\n",
       "      <td>2866.1354</td>\n",
       "      <td>2828.2901</td>\n",
       "      <td>2841.9824</td>\n",
       "      <td>2858.5110</td>\n",
       "    </tr>\n",
       "    <tr>\n",
       "      <th>20200316</th>\n",
       "      <td>000016.SH</td>\n",
       "      <td>2694.0229</td>\n",
       "      <td>2799.9951</td>\n",
       "      <td>2800.1779</td>\n",
       "      <td>2689.8974</td>\n",
       "      <td>2798.7695</td>\n",
       "      <td>-104.7466</td>\n",
       "      <td>-3.7426</td>\n",
       "      <td>46971206.0</td>\n",
       "      <td>7.646031e+07</td>\n",
       "      <td>2826.7235</td>\n",
       "      <td>2715.1375</td>\n",
       "      <td>2798.7695</td>\n",
       "      <td>2720.6127</td>\n",
       "    </tr>\n",
       "    <tr>\n",
       "      <th>20200317</th>\n",
       "      <td>000016.SH</td>\n",
       "      <td>2685.5907</td>\n",
       "      <td>2696.6972</td>\n",
       "      <td>2734.7985</td>\n",
       "      <td>2629.1822</td>\n",
       "      <td>2694.0229</td>\n",
       "      <td>-8.4322</td>\n",
       "      <td>-0.3130</td>\n",
       "      <td>41532694.0</td>\n",
       "      <td>7.008388e+07</td>\n",
       "      <td>2800.1779</td>\n",
       "      <td>2689.8974</td>\n",
       "      <td>2694.0229</td>\n",
       "      <td>2799.9951</td>\n",
       "    </tr>\n",
       "    <tr>\n",
       "      <th>20200318</th>\n",
       "      <td>000016.SH</td>\n",
       "      <td>2625.7470</td>\n",
       "      <td>2695.4241</td>\n",
       "      <td>2724.3019</td>\n",
       "      <td>2625.6003</td>\n",
       "      <td>2685.5907</td>\n",
       "      <td>-59.8437</td>\n",
       "      <td>-2.2283</td>\n",
       "      <td>37681392.0</td>\n",
       "      <td>6.618735e+07</td>\n",
       "      <td>2734.7985</td>\n",
       "      <td>2629.1822</td>\n",
       "      <td>2685.5907</td>\n",
       "      <td>2696.6972</td>\n",
       "    </tr>\n",
       "  </tbody>\n",
       "</table>\n",
       "<p>3938 rows × 14 columns</p>\n",
       "</div>"
      ],
      "text/plain": [
       "              ts_code      close       open       high        low  pre_close  \\\n",
       "trade_date                                                                     \n",
       "20040102    000016.SH  1011.3470   996.9960  1021.5680   993.8920  1000.0000   \n",
       "20040105    000016.SH  1060.8010  1008.2790  1060.8980  1008.2790  1011.3470   \n",
       "20040106    000016.SH  1075.6560  1059.1410  1086.6940  1059.0950  1060.8010   \n",
       "20040107    000016.SH  1086.3030  1075.5620  1095.8410  1070.9800  1075.6560   \n",
       "20040108    000016.SH  1102.6620  1087.6800  1108.2910  1082.5090  1086.3030   \n",
       "...               ...        ...        ...        ...        ...        ...   \n",
       "20200312    000016.SH  2841.9824  2858.5110  2866.1354  2828.2901  2888.3612   \n",
       "20200313    000016.SH  2798.7695  2720.6127  2826.7235  2715.1375  2841.9824   \n",
       "20200316    000016.SH  2694.0229  2799.9951  2800.1779  2689.8974  2798.7695   \n",
       "20200317    000016.SH  2685.5907  2696.6972  2734.7985  2629.1822  2694.0229   \n",
       "20200318    000016.SH  2625.7470  2695.4241  2724.3019  2625.6003  2685.5907   \n",
       "\n",
       "              change  pct_chg         vol        amount       High        Low  \\\n",
       "trade_date                                                                      \n",
       "20040102     11.3470   1.1347   8064653.0  5.742759e+06        NaN        NaN   \n",
       "20040105     49.4540   4.8899  14468180.0  1.070646e+07  1021.5680   993.8920   \n",
       "20040106     14.8550   1.4004  16991334.0  1.241700e+07  1060.8980  1008.2790   \n",
       "20040107     10.6470   0.9898  13729419.0  1.035253e+07  1086.6940  1059.0950   \n",
       "20040108     16.3590   1.5059  10780427.0  8.188927e+06  1095.8410  1070.9800   \n",
       "...              ...      ...         ...           ...        ...        ...   \n",
       "20200312    -46.3788  -1.6057  37023632.0  6.074492e+07  2927.8282  2888.3612   \n",
       "20200313    -43.2129  -1.5205  49061355.0  8.281450e+07  2866.1354  2828.2901   \n",
       "20200316   -104.7466  -3.7426  46971206.0  7.646031e+07  2826.7235  2715.1375   \n",
       "20200317     -8.4322  -0.3130  41532694.0  7.008388e+07  2800.1779  2689.8974   \n",
       "20200318    -59.8437  -2.2283  37681392.0  6.618735e+07  2734.7985  2629.1822   \n",
       "\n",
       "                Close       Open  \n",
       "trade_date                        \n",
       "20040102          NaN        NaN  \n",
       "20040105    1011.3470   996.9960  \n",
       "20040106    1060.8010  1008.2790  \n",
       "20040107    1075.6560  1059.1410  \n",
       "20040108    1086.3030  1075.5620  \n",
       "...               ...        ...  \n",
       "20200312    2888.3612  2927.8282  \n",
       "20200313    2841.9824  2858.5110  \n",
       "20200316    2798.7695  2720.6127  \n",
       "20200317    2694.0229  2799.9951  \n",
       "20200318    2685.5907  2696.6972  \n",
       "\n",
       "[3938 rows x 14 columns]"
      ]
     },
     "execution_count": 6,
     "metadata": {},
     "output_type": "execute_result"
    }
   ],
   "source": [
    "# using history to predict future\n",
    "sz50['High'] = sz50['high'].shift(1)\n",
    "sz50['Low'] = sz50['low'].shift(1)\n",
    "sz50['Close'] = sz50['close'].shift(1)\n",
    "sz50['Open'] = sz50['open'].shift(1)\n",
    "sz50"
   ]
  },
  {
   "cell_type": "code",
   "execution_count": 7,
   "metadata": {},
   "outputs": [],
   "source": [
    "# checking imbalanced data\n",
    "change = list(np.where(sz50['change'] > 0, 1, -1 ))\n",
    "change_series = pd.Series({'Up' : change.count(1), 'Down' : change.count(-1)}, name = 'change_table')\n",
    "imbalanced_threshold = 0.1\n",
    "change_series['Imbalance'] = not (-imbalanced_threshold < (change.count(1) - change.count(-1)) / (change.count(1) + change.count(-1)) < imbalanced_threshold)"
   ]
  },
  {
   "cell_type": "code",
   "execution_count": 8,
   "metadata": {},
   "outputs": [],
   "source": [
    "# handling data\n",
    "tp = 10\n",
    "sz50['signal'] = change\n",
    "sz50['MOM'] = ta.MOM(sz50['close'], timeperiod = tp)\n",
    "sz50['RSI'] = ta.RSI(sz50['close'], timeperiod = tp)\n",
    "sz50['AROONOSC'] = ta.AROONOSC(sz50['high'], sz50['low'], timeperiod = tp)\n",
    "sz50['RSI_SVM'] = ta.RSI(sz50['Close'], timeperiod = tp)\n",
    "sz50['ADX'] = ta.ADX(sz50['High'], sz50['Low'], sz50['Close'], timeperiod = tp)"
   ]
  },
  {
   "cell_type": "code",
   "execution_count": 9,
   "metadata": {},
   "outputs": [],
   "source": [
    "# split training and testing data\n",
    "split_ratio = 0.7\n",
    "split = int(len(sz50) * split_ratio)"
   ]
  },
  {
   "cell_type": "markdown",
   "metadata": {},
   "source": [
    "# Logistic Regression"
   ]
  },
  {
   "cell_type": "code",
   "execution_count": 10,
   "metadata": {},
   "outputs": [],
   "source": [
    "# get data for Logistic Regression\n",
    "order_lr = ['open', 'high', 'low', 'close', 'MOM', 'RSI', 'AROONOSC', 'signal']\n",
    "sz50_lr = sz50[order_lr]\n",
    "sz50_lr = sz50_lr.dropna(how = 'any')"
   ]
  },
  {
   "cell_type": "code",
   "execution_count": 11,
   "metadata": {},
   "outputs": [],
   "source": [
    "x_lr = sz50_lr.iloc[:,:7]"
   ]
  },
  {
   "cell_type": "code",
   "execution_count": 12,
   "metadata": {},
   "outputs": [],
   "source": [
    "y_lr = sz50_lr['signal']"
   ]
  },
  {
   "cell_type": "code",
   "execution_count": 13,
   "metadata": {},
   "outputs": [],
   "source": [
    "x_lr_train, x_lr_test, y_lr_train, y_lr_test = x_lr[:split], x_lr[split:], y_lr[:split], y_lr[split:]"
   ]
  },
  {
   "cell_type": "code",
   "execution_count": 14,
   "metadata": {},
   "outputs": [],
   "source": [
    "# increase maximum nunber of iteration\n",
    "model = LogisticRegression(max_iter = 2000)\n",
    "lr = model.fit(x_lr_train, y_lr_train)"
   ]
  },
  {
   "cell_type": "code",
   "execution_count": 15,
   "metadata": {},
   "outputs": [],
   "source": [
    "# pd.DataFrame(list(zip(x_lr.columns, np.transpose(lr.coef_))))"
   ]
  },
  {
   "cell_type": "code",
   "execution_count": 16,
   "metadata": {},
   "outputs": [],
   "source": [
    "probability = lr.predict_proba(x_lr_test)"
   ]
  },
  {
   "cell_type": "code",
   "execution_count": 17,
   "metadata": {},
   "outputs": [],
   "source": [
    "predict_lr = lr.predict(x_lr_test)"
   ]
  },
  {
   "cell_type": "code",
   "execution_count": 18,
   "metadata": {},
   "outputs": [
    {
     "data": {
      "text/plain": [
       "array([[500,  79],\n",
       "       [ 97, 496]], dtype=int64)"
      ]
     },
     "execution_count": 18,
     "metadata": {},
     "output_type": "execute_result"
    }
   ],
   "source": [
    "metrics.confusion_matrix(y_lr_test, predict_lr)"
   ]
  },
  {
   "cell_type": "code",
   "execution_count": 19,
   "metadata": {},
   "outputs": [],
   "source": [
    "result_lr = metrics.classification_report(y_lr_test, predict_lr)"
   ]
  },
  {
   "cell_type": "code",
   "execution_count": 20,
   "metadata": {},
   "outputs": [
    {
     "data": {
      "text/plain": [
       "0.8498293515358362"
      ]
     },
     "execution_count": 20,
     "metadata": {},
     "output_type": "execute_result"
    }
   ],
   "source": [
    "lr.score(x_lr_test, y_lr_test)"
   ]
  },
  {
   "cell_type": "code",
   "execution_count": 21,
   "metadata": {},
   "outputs": [
    {
     "data": {
      "text/plain": [
       "array([0.91348601, 0.86005089, 0.88549618, 0.85750636, 0.86513995,\n",
       "       0.84732824, 0.86513995, 0.82951654, 0.87755102, 0.83418367])"
      ]
     },
     "execution_count": 21,
     "metadata": {},
     "output_type": "execute_result"
    }
   ],
   "source": [
    "k_fold_lr = 10\n",
    "cross_val_accuracy_lr = cross_val_score(model, x_lr, y_lr, scoring = 'accuracy', cv = k_fold_lr)\n",
    "cross_val_accuracy_lr"
   ]
  },
  {
   "cell_type": "code",
   "execution_count": 22,
   "metadata": {},
   "outputs": [
    {
     "data": {
      "text/plain": [
       "0.8499914081089975"
      ]
     },
     "execution_count": 22,
     "metadata": {},
     "output_type": "execute_result"
    }
   ],
   "source": [
    "metrics.roc_auc_score(y_lr_test, predict_lr)"
   ]
  },
  {
   "cell_type": "markdown",
   "metadata": {},
   "source": [
    "# SVM"
   ]
  },
  {
   "cell_type": "code",
   "execution_count": 23,
   "metadata": {},
   "outputs": [],
   "source": [
    "order_svm = ['High', 'Low', 'Close', 'Open', 'RSI_SVM', 'ADX', 'signal']\n",
    "sz50_svm = sz50[order_svm]\n",
    "sz50_svm = sz50_svm.dropna(how = 'any')"
   ]
  },
  {
   "cell_type": "code",
   "execution_count": 24,
   "metadata": {},
   "outputs": [
    {
     "data": {
      "text/plain": [
       "array([0, 0, 0, ..., 1, 1, 1], dtype=int64)"
      ]
     },
     "execution_count": 24,
     "metadata": {},
     "output_type": "execute_result"
    }
   ],
   "source": [
    "# up, down, 2 regimes\n",
    "ss = StandardScaler()\n",
    "unsup = mix.GaussianMixture(n_components = 2, covariance_type = 'spherical', n_init = 100, random_state = 42) \n",
    "unsup.fit(np.reshape(ss.fit_transform(sz50_svm),(-1,sz50_svm.shape[1])))\n",
    "regime = unsup.predict(np.reshape(ss.fit_transform(sz50_svm),(-1,sz50_svm.shape[1])))\n",
    "regime"
   ]
  },
  {
   "cell_type": "code",
   "execution_count": 25,
   "metadata": {},
   "outputs": [],
   "source": [
    "sz50_svm = pd.DataFrame(regime, columns = ['regime'], index = sz50_svm.index).join(sz50_svm, how = 'inner')"
   ]
  },
  {
   "cell_type": "code",
   "execution_count": 26,
   "metadata": {},
   "outputs": [],
   "source": [
    "# sss = StandardScaler()\n",
    "# sz50_svm[sz50_svm.columns] = sss.fit_transform(sz50_svm[sz50_svm.columns])\n",
    "# sz50_svm"
   ]
  },
  {
   "cell_type": "code",
   "execution_count": 27,
   "metadata": {},
   "outputs": [],
   "source": [
    "clf = SVC(C = 1.0, cache_size = 200, class_weight = None, coef0 = 0.0,\n",
    "    decision_function_shape = None, degree = 3, gamma = 'auto', kernel = 'rbf',\n",
    "    max_iter = -1, probability = False, random_state = None, shrinking = True,\n",
    "    tol = 0.001, verbose = False)"
   ]
  },
  {
   "cell_type": "code",
   "execution_count": 28,
   "metadata": {},
   "outputs": [],
   "source": [
    "x_svm = sz50_svm.drop(['signal'], axis = 1)"
   ]
  },
  {
   "cell_type": "code",
   "execution_count": 29,
   "metadata": {},
   "outputs": [],
   "source": [
    "y_svm = sz50_svm['signal']"
   ]
  },
  {
   "cell_type": "code",
   "execution_count": 30,
   "metadata": {},
   "outputs": [],
   "source": [
    "x_svm_train, x_svm_test, y_svm_train, y_svm_test = x_svm[:split], x_svm[split:], y_svm[:split], y_svm[split:]"
   ]
  },
  {
   "cell_type": "code",
   "execution_count": 31,
   "metadata": {},
   "outputs": [],
   "source": [
    "svm = clf.fit(x_svm_train, y_svm_train.astype(int))"
   ]
  },
  {
   "cell_type": "code",
   "execution_count": 32,
   "metadata": {},
   "outputs": [
    {
     "data": {
      "text/plain": [
       "array([1, 1, 1, ..., 1, 1, 1])"
      ]
     },
     "execution_count": 32,
     "metadata": {},
     "output_type": "execute_result"
    }
   ],
   "source": [
    "predict_svm = clf.predict(x_svm_test)\n",
    "predict_svm"
   ]
  },
  {
   "cell_type": "code",
   "execution_count": 33,
   "metadata": {},
   "outputs": [
    {
     "data": {
      "text/plain": [
       "array([[  0, 574],\n",
       "       [  0, 588]], dtype=int64)"
      ]
     },
     "execution_count": 33,
     "metadata": {},
     "output_type": "execute_result"
    }
   ],
   "source": [
    "metrics.confusion_matrix(y_svm_test.astype('int') , predict_svm)"
   ]
  },
  {
   "cell_type": "code",
   "execution_count": 34,
   "metadata": {},
   "outputs": [
    {
     "name": "stderr",
     "output_type": "stream",
     "text": [
      "C:\\Users\\Administrator\\.conda\\envs\\act\\lib\\site-packages\\sklearn\\metrics\\_classification.py:1272: UndefinedMetricWarning: Precision and F-score are ill-defined and being set to 0.0 in labels with no predicted samples. Use `zero_division` parameter to control this behavior.\n",
      "  _warn_prf(average, modifier, msg_start, len(result))\n"
     ]
    }
   ],
   "source": [
    "result_svm = metrics.classification_report(y_svm_test.astype('int'), predict_svm)"
   ]
  },
  {
   "cell_type": "code",
   "execution_count": 35,
   "metadata": {},
   "outputs": [
    {
     "data": {
      "text/plain": [
       "0.5051635111876076"
      ]
     },
     "execution_count": 35,
     "metadata": {},
     "output_type": "execute_result"
    }
   ],
   "source": [
    "svm.score(x_svm_test.astype('int'), y_svm_test.astype('int'))"
   ]
  },
  {
   "cell_type": "code",
   "execution_count": 36,
   "metadata": {},
   "outputs": [
    {
     "data": {
      "text/plain": [
       "array([0.49489796, 0.50510204, 0.50765306, 0.50765306, 0.50510204,\n",
       "       0.5127551 , 0.51020408, 0.50765306, 0.50639386, 0.50639386])"
      ]
     },
     "execution_count": 36,
     "metadata": {},
     "output_type": "execute_result"
    }
   ],
   "source": [
    "k_fold_svm = 10\n",
    "cross_val_accuracy_svm = cross_val_score(clf, x_svm.astype('int'), y_svm.astype('int'), scoring = 'accuracy', cv = k_fold_svm)\n",
    "cross_val_accuracy_svm"
   ]
  },
  {
   "cell_type": "code",
   "execution_count": 37,
   "metadata": {},
   "outputs": [
    {
     "data": {
      "text/plain": [
       "0.5"
      ]
     },
     "execution_count": 37,
     "metadata": {},
     "output_type": "execute_result"
    }
   ],
   "source": [
    "metrics.roc_auc_score(y_svm_test.astype('int'), predict_svm)"
   ]
  },
  {
   "cell_type": "markdown",
   "metadata": {},
   "source": [
    "# Linear Regression"
   ]
  },
  {
   "cell_type": "code",
   "execution_count": 38,
   "metadata": {},
   "outputs": [],
   "source": [
    "order_LR = ['High', 'Low', 'Close', 'Open', 'RSI_SVM', 'ADX', 'signal']\n",
    "sz50_LR = sz50[order_LR]\n",
    "sz50_LR = sz50_LR.dropna(how = 'any')\n",
    "sz50_array = sz50_LR.values"
   ]
  },
  {
   "cell_type": "code",
   "execution_count": 39,
   "metadata": {},
   "outputs": [],
   "source": [
    "x= sz50_array[:,:6]"
   ]
  },
  {
   "cell_type": "code",
   "execution_count": 40,
   "metadata": {},
   "outputs": [],
   "source": [
    "y = sz50_array[:,6]"
   ]
  },
  {
   "cell_type": "code",
   "execution_count": 41,
   "metadata": {},
   "outputs": [],
   "source": [
    "x_train, x_test, y_train, y_test = x[:split], x[split:], y[:split], y[split:]"
   ]
  },
  {
   "cell_type": "code",
   "execution_count": 42,
   "metadata": {},
   "outputs": [
    {
     "data": {
      "text/plain": [
       "array([-0.99084198, -1.01435425, -1.00648008, -0.99972827, -0.98319145,\n",
       "       -1.00070903, -1.00433683, -0.99999119, -0.98445396, -0.98753349])"
      ]
     },
     "execution_count": 42,
     "metadata": {},
     "output_type": "execute_result"
    }
   ],
   "source": [
    "LR = LinearRegression()\n",
    "score = 'neg_mean_squared_error'\n",
    "seed = 38\n",
    "folds = 10\n",
    "kfold = KFold(n_splits = folds, shuffle = True, random_state = seed)\n",
    "results_LR = cross_val_score(LR, x_train, y_train, cv = kfold, scoring = score)\n",
    "results_LR"
   ]
  },
  {
   "cell_type": "code",
   "execution_count": 43,
   "metadata": {},
   "outputs": [],
   "source": [
    "LR = LR.fit(x_train, y_train)"
   ]
  },
  {
   "cell_type": "code",
   "execution_count": 44,
   "metadata": {},
   "outputs": [],
   "source": [
    "predict_LR = LR.predict(x_test)\n",
    "predict_LR = np.where(predict_LR > 0, 1, -1)"
   ]
  },
  {
   "cell_type": "code",
   "execution_count": 45,
   "metadata": {},
   "outputs": [
    {
     "data": {
      "text/plain": [
       "array([[322, 252],\n",
       "       [341, 247]], dtype=int64)"
      ]
     },
     "execution_count": 45,
     "metadata": {},
     "output_type": "execute_result"
    }
   ],
   "source": [
    "metrics.confusion_matrix(y_test, predict_LR)"
   ]
  },
  {
   "cell_type": "code",
   "execution_count": 46,
   "metadata": {},
   "outputs": [],
   "source": [
    "result_LR = metrics.classification_report(y_test, predict_LR)"
   ]
  },
  {
   "cell_type": "code",
   "execution_count": 47,
   "metadata": {},
   "outputs": [
    {
     "data": {
      "text/plain": [
       "-0.005489135962553959"
      ]
     },
     "execution_count": 47,
     "metadata": {},
     "output_type": "execute_result"
    }
   ],
   "source": [
    "LR.score(x_test, y_test)"
   ]
  },
  {
   "cell_type": "code",
   "execution_count": 48,
   "metadata": {},
   "outputs": [
    {
     "data": {
      "text/plain": [
       "0.490521818483491"
      ]
     },
     "execution_count": 48,
     "metadata": {},
     "output_type": "execute_result"
    }
   ],
   "source": [
    "metrics.roc_auc_score(y_test, predict_LR)"
   ]
  },
  {
   "cell_type": "markdown",
   "metadata": {},
   "source": [
    "# Ridge"
   ]
  },
  {
   "cell_type": "code",
   "execution_count": 49,
   "metadata": {},
   "outputs": [],
   "source": [
    "R = Ridge()\n",
    "score = 'neg_mean_squared_error'\n",
    "seed = 38\n",
    "folds = 10\n",
    "kfold = KFold(n_splits = folds, shuffle = True, random_state = seed)\n",
    "results_R = cross_val_score(R, x_train, y_train, cv = kfold, scoring = score)"
   ]
  },
  {
   "cell_type": "code",
   "execution_count": 50,
   "metadata": {},
   "outputs": [],
   "source": [
    "R = R.fit(x_train, y_train)"
   ]
  },
  {
   "cell_type": "code",
   "execution_count": 51,
   "metadata": {},
   "outputs": [],
   "source": [
    "predict_R = R.predict(x_test)\n",
    "predict_R = np.where(predict_R > 0, 1, -1)"
   ]
  },
  {
   "cell_type": "code",
   "execution_count": 52,
   "metadata": {},
   "outputs": [
    {
     "data": {
      "text/plain": [
       "array([[322, 252],\n",
       "       [341, 247]], dtype=int64)"
      ]
     },
     "execution_count": 52,
     "metadata": {},
     "output_type": "execute_result"
    }
   ],
   "source": [
    "metrics.confusion_matrix(y_test, predict_R)"
   ]
  },
  {
   "cell_type": "code",
   "execution_count": 53,
   "metadata": {},
   "outputs": [],
   "source": [
    "result_R = metrics.classification_report(y_test, predict_R)"
   ]
  },
  {
   "cell_type": "code",
   "execution_count": 54,
   "metadata": {},
   "outputs": [
    {
     "data": {
      "text/plain": [
       "-0.00548914098350517"
      ]
     },
     "execution_count": 54,
     "metadata": {},
     "output_type": "execute_result"
    }
   ],
   "source": [
    "R.score(x_test, y_test)"
   ]
  },
  {
   "cell_type": "code",
   "execution_count": 55,
   "metadata": {},
   "outputs": [
    {
     "data": {
      "text/plain": [
       "0.490521818483491"
      ]
     },
     "execution_count": 55,
     "metadata": {},
     "output_type": "execute_result"
    }
   ],
   "source": [
    "metrics.roc_auc_score(y_test, predict_R)"
   ]
  },
  {
   "cell_type": "markdown",
   "metadata": {},
   "source": [
    "# Lasso"
   ]
  },
  {
   "cell_type": "code",
   "execution_count": 56,
   "metadata": {},
   "outputs": [],
   "source": [
    "L = Lasso()\n",
    "score = 'neg_mean_squared_error'\n",
    "seed = 38\n",
    "folds = 10\n",
    "kfold = KFold(n_splits = folds, shuffle = True, random_state = seed)\n",
    "results_L = cross_val_score(L, x_train, y_train, cv = kfold, scoring = score)"
   ]
  },
  {
   "cell_type": "code",
   "execution_count": 57,
   "metadata": {},
   "outputs": [],
   "source": [
    "L = L.fit(x_train, y_train)"
   ]
  },
  {
   "cell_type": "code",
   "execution_count": 58,
   "metadata": {},
   "outputs": [],
   "source": [
    "predict_L = L.predict(x_test)\n",
    "predict_L = np.where(predict_L > 0, 1, -1)"
   ]
  },
  {
   "cell_type": "code",
   "execution_count": 59,
   "metadata": {},
   "outputs": [
    {
     "data": {
      "text/plain": [
       "array([[  0, 574],\n",
       "       [  0, 588]], dtype=int64)"
      ]
     },
     "execution_count": 59,
     "metadata": {},
     "output_type": "execute_result"
    }
   ],
   "source": [
    "metrics.confusion_matrix(y_test, predict_L)"
   ]
  },
  {
   "cell_type": "code",
   "execution_count": 60,
   "metadata": {},
   "outputs": [
    {
     "name": "stderr",
     "output_type": "stream",
     "text": [
      "C:\\Users\\Administrator\\.conda\\envs\\act\\lib\\site-packages\\sklearn\\metrics\\_classification.py:1272: UndefinedMetricWarning: Precision and F-score are ill-defined and being set to 0.0 in labels with no predicted samples. Use `zero_division` parameter to control this behavior.\n",
      "  _warn_prf(average, modifier, msg_start, len(result))\n"
     ]
    }
   ],
   "source": [
    "result_L = metrics.classification_report(y_test, predict_L)"
   ]
  },
  {
   "cell_type": "code",
   "execution_count": 61,
   "metadata": {},
   "outputs": [
    {
     "data": {
      "text/plain": [
       "-0.0024379987046323492"
      ]
     },
     "execution_count": 61,
     "metadata": {},
     "output_type": "execute_result"
    }
   ],
   "source": [
    "L.score(x_test, y_test)"
   ]
  },
  {
   "cell_type": "code",
   "execution_count": 62,
   "metadata": {},
   "outputs": [
    {
     "data": {
      "text/plain": [
       "0.5"
      ]
     },
     "execution_count": 62,
     "metadata": {},
     "output_type": "execute_result"
    }
   ],
   "source": [
    "metrics.roc_auc_score(y_test, predict_L)"
   ]
  },
  {
   "cell_type": "markdown",
   "metadata": {},
   "source": [
    "# Result"
   ]
  },
  {
   "cell_type": "code",
   "execution_count": 63,
   "metadata": {},
   "outputs": [
    {
     "name": "stdout",
     "output_type": "stream",
     "text": [
      "000016.SH\n"
     ]
    }
   ],
   "source": [
    "# dataset\n",
    "print('000016.SH')"
   ]
  },
  {
   "cell_type": "code",
   "execution_count": 64,
   "metadata": {},
   "outputs": [
    {
     "name": "stdout",
     "output_type": "stream",
     "text": [
      "Imbalanced data do not exist.\n"
     ]
    }
   ],
   "source": [
    "# imbalanced data checking\n",
    "if change_series['Imbalance'] == 0:\n",
    "    print('Imbalanced data do not exist.')\n",
    "else:\n",
    "    print('Imbalanced data exists.')"
   ]
  },
  {
   "cell_type": "code",
   "execution_count": 65,
   "metadata": {},
   "outputs": [
    {
     "name": "stdout",
     "output_type": "stream",
     "text": [
      "using ['open', 'high', 'low', 'close', 'MOM', 'RSI', 'AROONOSC', 'signal'] as features in Logistic Regression\n",
      "using ['High', 'Low', 'Close', 'Open', 'RSI_SVM', 'ADX', 'signal'] as features in others\n"
     ]
    }
   ],
   "source": [
    "# features\n",
    "print(f'using {order_lr} as features in Logistic Regression')\n",
    "print(f'using {order_LR} as features in others')"
   ]
  },
  {
   "cell_type": "code",
   "execution_count": 66,
   "metadata": {},
   "outputs": [
    {
     "name": "stdout",
     "output_type": "stream",
     "text": [
      "              precision    recall  f1-score   support\n",
      "\n",
      "          -1       0.84      0.86      0.85       579\n",
      "           1       0.86      0.84      0.85       593\n",
      "\n",
      "    accuracy                           0.85      1172\n",
      "   macro avg       0.85      0.85      0.85      1172\n",
      "weighted avg       0.85      0.85      0.85      1172\n",
      "\n",
      "              precision    recall  f1-score   support\n",
      "\n",
      "          -1       0.00      0.00      0.00       574\n",
      "           1       0.51      1.00      0.67       588\n",
      "\n",
      "    accuracy                           0.51      1162\n",
      "   macro avg       0.25      0.50      0.34      1162\n",
      "weighted avg       0.26      0.51      0.34      1162\n",
      "\n",
      "              precision    recall  f1-score   support\n",
      "\n",
      "        -1.0       0.49      0.56      0.52       574\n",
      "         1.0       0.49      0.42      0.45       588\n",
      "\n",
      "    accuracy                           0.49      1162\n",
      "   macro avg       0.49      0.49      0.49      1162\n",
      "weighted avg       0.49      0.49      0.49      1162\n",
      "\n",
      "              precision    recall  f1-score   support\n",
      "\n",
      "        -1.0       0.49      0.56      0.52       574\n",
      "         1.0       0.49      0.42      0.45       588\n",
      "\n",
      "    accuracy                           0.49      1162\n",
      "   macro avg       0.49      0.49      0.49      1162\n",
      "weighted avg       0.49      0.49      0.49      1162\n",
      "\n",
      "              precision    recall  f1-score   support\n",
      "\n",
      "        -1.0       0.00      0.00      0.00       574\n",
      "         1.0       0.51      1.00      0.67       588\n",
      "\n",
      "    accuracy                           0.51      1162\n",
      "   macro avg       0.25      0.50      0.34      1162\n",
      "weighted avg       0.26      0.51      0.34      1162\n",
      "\n"
     ]
    }
   ],
   "source": [
    "# performance\n",
    "results = [result_lr, result_svm, result_LR, result_R, result_L]\n",
    "for result in results:\n",
    "    print(result)"
   ]
  },
  {
   "cell_type": "code",
   "execution_count": 67,
   "metadata": {},
   "outputs": [
    {
     "name": "stdout",
     "output_type": "stream",
     "text": [
      "Logistic Regression performs the best for my dataset (daily, sz50, from 20040102 to 20200318) with the acuracy 84%, precision 0.85, recall 0.86, f1 0.85, auc 0.85\n"
     ]
    }
   ],
   "source": [
    "# conclusion\n",
    "print('Logistic Regression performs the best for my dataset (daily, sz50, from 20040102 to 20200318) with the acuracy 84%, precision 0.85, recall 0.86, f1 0.85, auc 0.85')"
   ]
  },
  {
   "cell_type": "code",
   "execution_count": null,
   "metadata": {},
   "outputs": [],
   "source": []
  },
  {
   "cell_type": "code",
   "execution_count": null,
   "metadata": {},
   "outputs": [],
   "source": []
  },
  {
   "cell_type": "code",
   "execution_count": null,
   "metadata": {},
   "outputs": [],
   "source": []
  }
 ],
 "metadata": {
  "kernelspec": {
   "display_name": "Python 3",
   "language": "python",
   "name": "python3"
  },
  "language_info": {
   "codemirror_mode": {
    "name": "ipython",
    "version": 3
   },
   "file_extension": ".py",
   "mimetype": "text/x-python",
   "name": "python",
   "nbconvert_exporter": "python",
   "pygments_lexer": "ipython3",
   "version": "3.7.4"
  }
 },
 "nbformat": 4,
 "nbformat_minor": 4
}
